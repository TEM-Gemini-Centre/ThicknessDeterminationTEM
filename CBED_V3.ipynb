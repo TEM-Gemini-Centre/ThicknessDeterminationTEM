{
 "cells": [
  {
   "cell_type": "markdown",
   "id": "41186001",
   "metadata": {},
   "source": [
    "# CBED- Thickness Calculator"
   ]
  },
  {
   "cell_type": "code",
   "execution_count": 5,
   "id": "e28824d8",
   "metadata": {
    "scrolled": true
   },
   "outputs": [],
   "source": [
    "import numpy as np\n",
    "import matplotlib.pyplot as plt\n",
    "from scipy.constants import h, e, c, m_e\n",
    "from scipy.stats import linregress\n",
    "import itertools\n",
    "from scipy.stats import t\n",
    "\n",
    "\n",
    "#conda install -c conda-forge ipywidgets\n",
    "import ipywidgets as widgets\n",
    "from IPython.display import display"
   ]
  },
  {
   "cell_type": "code",
   "execution_count": 6,
   "id": "e2d78023",
   "metadata": {},
   "outputs": [
    {
     "data": {
      "application/vnd.jupyter.widget-view+json": {
       "model_id": "9c5d3305ae794041a6b75917cdecbcca",
       "version_major": 2,
       "version_minor": 0
      },
      "text/plain": [
       "IntSlider(value=200, description='Voltage [kV]:', max=300, min=80, step=20)"
      ]
     },
     "metadata": {},
     "output_type": "display_data"
    },
    {
     "data": {
      "application/vnd.jupyter.widget-view+json": {
       "model_id": "b9f2db0339204d2b87c94eac788e9894",
       "version_major": 2,
       "version_minor": 0
      },
      "text/plain": [
       "IntSlider(value=2, description='max. iterator', max=10, min=1)"
      ]
     },
     "metadata": {},
     "output_type": "display_data"
    },
    {
     "data": {
      "application/vnd.jupyter.widget-view+json": {
       "model_id": "2f636133b707432c8bf7cd8556ca5adb",
       "version_major": 2,
       "version_minor": 0
      },
      "text/plain": [
       "FloatText(value=4.0475e-10, description='Lattice Parameter [nm]:')"
      ]
     },
     "metadata": {},
     "output_type": "display_data"
    },
    {
     "data": {
      "application/vnd.jupyter.widget-view+json": {
       "model_id": "27fe08ae289340dfa989ad40c0c0b40d",
       "version_major": 2,
       "version_minor": 0
      },
      "text/plain": [
       "Dropdown(description='Kikuchi Band:', index=1, options=((2, 0, 0), (2, 2, 0), (2, 2, 2)), value=(2, 2, 0))"
      ]
     },
     "metadata": {},
     "output_type": "display_data"
    },
    {
     "data": {
      "application/vnd.jupyter.widget-view+json": {
       "model_id": "a933cbc3a2614f7cbc6f3cc111eb7685",
       "version_major": 2,
       "version_minor": 0
      },
      "text/plain": [
       "Text(value='', description='String:', placeholder='Parameter Filename')"
      ]
     },
     "metadata": {},
     "output_type": "display_data"
    },
    {
     "data": {
      "application/vnd.jupyter.widget-view+json": {
       "model_id": "57abcd3254a24b548a6f6ac2408e10f8",
       "version_major": 2,
       "version_minor": 0
      },
      "text/plain": [
       "ToggleButtons(description='Overwrite', options=('No', 'Yes'), value='No')"
      ]
     },
     "metadata": {},
     "output_type": "display_data"
    },
    {
     "data": {
      "application/vnd.jupyter.widget-view+json": {
       "model_id": "8635682094a44a6ea1d2090fb81f74fc",
       "version_major": 2,
       "version_minor": 0
      },
      "text/plain": [
       "FloatText(value=0.0, description='Kikuchi Spacing:')"
      ]
     },
     "metadata": {},
     "output_type": "display_data"
    },
    {
     "data": {
      "application/vnd.jupyter.widget-view+json": {
       "model_id": "1c19757b49d94e5694295e2bae6686b5",
       "version_major": 2,
       "version_minor": 0
      },
      "text/plain": [
       "FloatText(value=0.0, description='Theta1:')"
      ]
     },
     "metadata": {},
     "output_type": "display_data"
    },
    {
     "data": {
      "application/vnd.jupyter.widget-view+json": {
       "model_id": "5a83e3c5f0a641c98b7092e7d5d7988f",
       "version_major": 2,
       "version_minor": 0
      },
      "text/plain": [
       "FloatText(value=0.0, description='Theta2:')"
      ]
     },
     "metadata": {},
     "output_type": "display_data"
    },
    {
     "data": {
      "application/vnd.jupyter.widget-view+json": {
       "model_id": "35a026b89cb9463a90746c0e95dd50bb",
       "version_major": 2,
       "version_minor": 0
      },
      "text/plain": [
       "FloatText(value=0.0, description='Theta3:')"
      ]
     },
     "metadata": {},
     "output_type": "display_data"
    },
    {
     "data": {
      "application/vnd.jupyter.widget-view+json": {
       "model_id": "eecf9602134f436abd8d2e3928b843fc",
       "version_major": 2,
       "version_minor": 0
      },
      "text/plain": [
       "FloatText(value=0.0, description='Theta4:')"
      ]
     },
     "metadata": {},
     "output_type": "display_data"
    }
   ],
   "source": [
    "def get_wavelength(acceleration_voltage):\n",
    "    # https://www.jeol.co.jp/en/words/emterms/search_result.html?keyword=wavelength%20of%20electron\n",
    "    # https://www.jeol.co.jp/en/words/emterms/search_result.html?keyword=relativistic%20correction\n",
    "    V_corrected = acceleration_voltage*(1+ (e)/(2*m_e*c**2)*acceleration_voltage)\n",
    "    lambd = h/np.sqrt(2*m_e*e*V_corrected)\n",
    "    return lambd\n",
    "\n",
    "def write_parameter_file(fname, params, overwrite):\n",
    "    pass\n",
    "\n",
    "def make_theta_list(t1,t2,t3,t4):\n",
    "    if t4 !=0.0:\n",
    "        return [t1,t2,t3,t4]\n",
    "    else:\n",
    "        return [t1,t2,t3]\n",
    "    \n",
    "def get_d_hkl(hkl, a =0.40475e-9):\n",
    "    #a taken from https://arxiv.org/ftp/arxiv/papers/2002/2002.01562.pdf\n",
    "    (h,k,l) = hkl\n",
    "    d_hkl= a/np.sqrt(h**2+k**2+l**2)\n",
    "    return d_hkl\n",
    "\n",
    "def make_si(theta_list, d_kik, d_hkl, wavelength):\n",
    "    si_list = [(wavelength*theta)/(d_kik*d_hkl**2) for theta in theta_list]\n",
    "    return np.array(si_list)\n",
    "\n",
    "def get_thickness_plot(si_list, kStart = 1, kStop = 3):\n",
    "\n",
    "    d_exct_list = []\n",
    "    t_error_list = []\n",
    "    t_list = []\n",
    "    r2_list = []\n",
    "    \n",
    "    #For easy plotting\n",
    "    x_data = []\n",
    "    y_data = []\n",
    "    slope_data = []\n",
    "    intercept_data = []\n",
    "    std_yintercept = []\n",
    "    \n",
    "    \n",
    "    for i in range(kStop):\n",
    "        nk_list = np.arange(start=kStart, stop= len(si_list)+kStart, step=1) #creating the necessary n_k\n",
    "        SIsquared_over_NKsquared= np.array([S**2/N**2 for (S,N) in zip(si_list,nk_list)]) #creating Yvalues\n",
    "        ONE_over_NKsquared = np.array([1/N**2 for N in nk_list]) #creating Xvalues\n",
    "        y_data.append(SIsquared_over_NKsquared)\n",
    "        x_data.append(ONE_over_NKsquared)\n",
    "        \n",
    "        result= linregress(ONE_over_NKsquared, SIsquared_over_NKsquared) #Getting all the necessary Data\n",
    "        slope_data.append(result.slope)\n",
    "        intercept_data.append(result.intercept)\n",
    "        \n",
    "        \n",
    "        std_yintercept.append(result.intercept_stderr)\n",
    "        \n",
    "\n",
    "        # Getting Extinction length and Thickness T\n",
    "        d_exct_g = np.sqrt(np.abs(1/result.slope)) * 10**9 # in nm\n",
    "        d_exct_list.append(d_exct_g)\n",
    "        \n",
    "        t = np.sqrt(1/result.intercept)*10**9 # in nm  \n",
    "        t_list.append(t)\n",
    "        \n",
    "        t_error_list.append(np.sqrt(1/result.intercept_stderr)*10**9)\n",
    "        r2_list.append(result.rvalue**2)\n",
    "        kStart+=1\n",
    "        \n",
    "        \n",
    "    ##########\n",
    "    #Determening uncertainty (Christoph apparently called Jackknife method):\n",
    "    possible_t=[]\n",
    "    pairs = []\n",
    "    for m in range(kStop):\n",
    "        pairs.append([])\n",
    "        \n",
    "        for i in zip(x_data[m],y_data[m]):\n",
    "            pairs[m].append(i)\n",
    "    all_combinations=[]\n",
    "    for j in range(len(pairs)):\n",
    "        combinations = itertools.combinations(pairs[j],len(x_data[m])-1)\n",
    "        all_combinations.append(combinations)\n",
    "        \n",
    " \n",
    "    for k in range(len(all_combinations)):\n",
    "        possible_t.append([])\n",
    "        for line in list(all_combinations[k]):\n",
    "            line_x = []\n",
    "            line_y = []\n",
    "            for point in line:\n",
    "                line_x.append(point[0])\n",
    "                line_y.append(point[1])\n",
    "            result= linregress(line_x, line_y)\n",
    "            t = np.sqrt(1/result.intercept)*10**9 # in nm  \n",
    "            possible_t[k].append(t)\n",
    "            \n",
    "    t_std= []\n",
    "    for l in range(len(possible_t)):\n",
    "        t_std.append(np.nanstd(possible_t[l]))\n",
    "        \n",
    "      \n",
    "\n",
    "    ############\n",
    "    #Plotting\n",
    "    plt.rcParams.update({'font.size': 18})\n",
    "    \n",
    "    fig, ax = plt.subplots(1,kStop, figsize = (25,10))\n",
    "    for i in range(kStop):\n",
    "        ax[i].plot(x_data[i],intercept_data[i]+slope_data[i]*x_data[i],c='g',label = r'$R^2$: '+str(round(r2_list[i],3))+'\\n'+r'$\\xi$ [nm]: '+str(round(d_exct_list[i],1))+'\\n Thickness [nm]: '+str(round(t_list[i],1))+r'$\\pm$'+str(round(t_std[i],1)))\n",
    "        ax[i].scatter(x_data[i],y_data[i], c= 'r')\n",
    "    \n",
    "    \n",
    "    \n",
    "    for a in ax:\n",
    "        a.legend(loc= 'upper right', facecolor='bisque')\n",
    "        a.set_xlabel(r'$\\frac{1}{n_k^2}$')\n",
    "        y_label= a.set_ylabel(r'$\\frac{s_i^2}{n_k^2}$')\n",
    "        y_label.set_rotation(0)\n",
    "        a.set_yticklabels([])\n",
    "        a.set_xticklabels([])\n",
    "    plt.show()\n",
    "\n",
    "    \n",
    "\n",
    "slider = widgets.IntSlider(\n",
    "    min=80,\n",
    "    max=300,\n",
    "    step=20,\n",
    "    description='Voltage [kV]:',\n",
    "    value=200,\n",
    "    orientation = 'horizontal')\n",
    "\n",
    "latticeParam = widgets.FloatText(\n",
    "    value=0.40475e-9,\n",
    "    description='Lattice Parameter [nm]:',\n",
    "    disabled=False\n",
    ")\n",
    "\n",
    "kik_band = widgets.Dropdown(\n",
    "    options=[(2,0,0), (2,2,0), (2,2,2)],\n",
    "    value=(2,2,0),\n",
    "    description='Kikuchi Band:',\n",
    "    disabled=False,\n",
    ")\n",
    "kStop_slider = widgets.IntSlider(\n",
    "    min=1,\n",
    "    max=10,\n",
    "    step=1,\n",
    "    description='max. iterator',\n",
    "    value=2,\n",
    "    orientation = 'horizontal')\n",
    "\n",
    "fname = widgets.Text(\n",
    "    placeholder='Parameter Filename',\n",
    "    description='String:',\n",
    "    disabled=False\n",
    ")\n",
    "\n",
    "overWrite= widgets.ToggleButtons(\n",
    "    options=['No', 'Yes'],\n",
    "    description='Overwrite',\n",
    "    disabled=False,\n",
    "    button_style='', # 'success', 'info', 'warning', 'danger' or ''\n",
    ")\n",
    "\n",
    "d_kik = widgets.FloatText(\n",
    "    value=0,\n",
    "    description='Kikuchi Spacing:',\n",
    "    disabled=False\n",
    ")\n",
    "theta1 = widgets.FloatText(\n",
    "    value=0,\n",
    "    description='Theta1:',\n",
    "    disabled=False\n",
    ")\n",
    "theta2 = widgets.FloatText(\n",
    "    value=0,\n",
    "    description='Theta2:',\n",
    "    disabled=False\n",
    ")\n",
    "theta3 = widgets.FloatText(\n",
    "    value=0,\n",
    "    description='Theta3:',\n",
    "    disabled=False\n",
    ")\n",
    "theta4 = widgets.FloatText(\n",
    "    value=0.0,\n",
    "    description='Theta4:',\n",
    "    disabled=False\n",
    ")\n",
    "\n",
    "button = widgets.Button(description='Click Me!')\n",
    "display(slider, kStop_slider, latticeParam, kik_band,fname,overWrite, d_kik,theta1,theta2,theta3, theta4)    \n",
    "\n"
   ]
  },
  {
   "cell_type": "markdown",
   "id": "090adb0a",
   "metadata": {},
   "source": [
    "## Type in your values above and execute the cell below\n",
    "If only 3 minima are used, keep Theta4=0!"
   ]
  },
  {
   "cell_type": "code",
   "execution_count": 8,
   "id": "58e68831",
   "metadata": {
    "scrolled": false
   },
   "outputs": [
    {
     "name": "stderr",
     "output_type": "stream",
     "text": [
      "<ipython-input-6-bd0e4b53fe35>:93: RuntimeWarning: divide by zero encountered in double_scalars\n",
      "  t = np.sqrt(1/result.intercept)*10**9 # in nm\n",
      "C:\\Users\\chhe\\Anaconda3\\lib\\site-packages\\numpy\\lib\\nanfunctions.py:1539: RuntimeWarning: invalid value encountered in subtract\n",
      "  np.subtract(arr, avg, out=arr, casting='unsafe')\n"
     ]
    },
    {
     "data": {
      "image/png": "[encoded data removed]",
      "text/plain": [
       "<Figure size 1800x720 with 2 Axes>"
      ]
     },
     "metadata": {
      "needs_background": "light"
     },
     "output_type": "display_data"
    }
   ],
   "source": [
    "d_hkl= get_d_hkl(hkl=kik_band.value)\n",
    "wave_l = get_wavelength(slider.value*10**3)\n",
    "si_list = make_si(make_theta_list(theta1.value,theta2.value,theta3.value,theta4.value),d_kik=d_kik.value, d_hkl= d_hkl, wavelength=wave_l)\n",
    "get_thickness_plot(si_list, kStart=1, kStop=kStop_slider.value)\n"
   ]
  },
  {
   "cell_type": "code",
   "execution_count": null,
   "id": "03c62682",
   "metadata": {
    "scrolled": true
   },
   "outputs": [],
   "source": []
  },
  {
   "cell_type": "markdown",
   "id": "1f5271bd",
   "metadata": {},
   "source": [
    "# Plans for next version:"
   ]
  },
  {
   "cell_type": "markdown",
   "id": "da0771f8",
   "metadata": {},
   "source": [
    "- Comparison with simulations\n",
    "- written in \"OOP\"\n",
    "- Material's library\n",
    "- writing output"
   ]
  },
  {
   "cell_type": "code",
   "execution_count": null,
   "id": "c933c87f",
   "metadata": {},
   "outputs": [],
   "source": []
  }
 ],
 "metadata": {
  "kernelspec": {
   "display_name": "Python 3",
   "language": "python",
   "name": "python3"
  },
  "language_info": {
   "codemirror_mode": {
    "name": "ipython",
    "version": 3
   },
   "file_extension": ".py",
   "mimetype": "text/x-python",
   "name": "python",
   "nbconvert_exporter": "python",
   "pygments_lexer": "ipython3",
   "version": "3.8.10"
  }
 },
 "nbformat": 4,
 "nbformat_minor": 5
}
