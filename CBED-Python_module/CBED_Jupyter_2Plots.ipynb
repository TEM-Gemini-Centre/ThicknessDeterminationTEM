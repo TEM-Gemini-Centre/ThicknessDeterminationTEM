{
 "cells": [
  {
   "cell_type": "code",
   "execution_count": 1,
   "metadata": {},
   "outputs": [
    {
     "name": "stderr",
     "output_type": "stream",
     "text": [
      "C:\\Users\\chhe\\Anaconda3\\envs\\hspy_environment\\lib\\site-packages\\pyUSID\\viz\\__init__.py:18: FutureWarning: Please use sidpy.viz.plot_utils instead of pyUSID.viz.plot_utils. pyUSID.plot_utils will be removed in a future release of pyUSID\n",
      "  FutureWarning)\n"
     ]
    }
   ],
   "source": [
    "%matplotlib qt\n",
    "import hyperspy.api as hs\n",
    "import scipy.misc\n",
    "import numpy as np\n",
    "import matplotlib.pyplot as plt\n",
    "from scipy.stats import linregress\n",
    "from scipy.signal import find_peaks"
   ]
  },
  {
   "cell_type": "markdown",
   "metadata": {},
   "source": [
    "# Define Variables"
   ]
  },
  {
   "cell_type": "code",
   "execution_count": 2,
   "metadata": {},
   "outputs": [],
   "source": [
    "wavelength_TEM_200kV = 0.0251*10**-10 #m \n",
    "d_Al_220 = 1.432 * 10**-10\n",
    "d_Al_200 = 2.021*10**-10"
   ]
  },
  {
   "cell_type": "markdown",
   "metadata": {},
   "source": [
    "# Define Functions\n",
    "\n",
    "##### make_si: \n",
    "Takes Theta values (min 3 theta values) and converts them into the deviation parameter s\n",
    "\n",
    "##### get_thichness_plot:\n",
    "Main function. Takes the Si_list (min 3 s_i values) and tries to iteratively arrange them. Condition for termination is either best fit (highest R2 value) or exceeding of kStop-iterations. Starts with iterator kStart."
   ]
  },
  {
   "cell_type": "code",
   "execution_count": 3,
   "metadata": {},
   "outputs": [],
   "source": [
    "def make_si(THETA_list, D_KIK, D_HKL, WAVELENGTH_TEM):\n",
    "    if len(THETA_list)<3:\n",
    "        print('Not enough Theta values!')\n",
    "    SI_list = [(WAVELENGTH_TEM*THETA)/(D_KIK*D_HKL**2) for THETA in THETA_list]\n",
    "    return np.array(SI_list)\n",
    "\n",
    "def get_thickness_plot(SI_list, kStart = 1, kStop = 6, D_EXCT= None):\n",
    "    RSQUARE_list = []\n",
    "    DATA_list = [] #Saving interesting stuff per Iteration to make plots\n",
    "    if len(SI_list)<3:\n",
    "        print('Not enough s_i values!')\n",
    "    for i in range(kStop):\n",
    "      \n",
    "        #while RSQUARE_list[-1]>RSQUARE_list[-2]:\n",
    "        NK_list = np.arange(start=kStart, stop= len(SI_list)+kStart, step=1) #creating the necessary n_k\n",
    "        SIsquared_over_NKsquared= np.array([S**2/N**2 for (S,N) in zip(SI_list,NK_list)]) #creating Yvalues\n",
    "        ONE_over_NKsquared = np.array([1/N**2 for N in NK_list]) #creating Xvalues\n",
    "        SLOPE, Yintercept, RSQUARE, p_value, std_err = linregress(ONE_over_NKsquared, SIsquared_over_NKsquared) #Getting all the necessary Data\n",
    "        \n",
    "        # Getting Extinction length and Thickness T\n",
    "        D_EXCT_G = np.sqrt(np.abs(1/SLOPE)) * 10**9 # in nm\n",
    "        T = np.sqrt(1/Yintercept)*10**9 # in nm  \n",
    "\n",
    "        ############\n",
    "        #### Saving Results\n",
    "        RSQUARE_list.append(np.abs(RSQUARE))\n",
    "        DATA_list.append([SLOPE, Yintercept, T, D_EXCT_G,np.abs(RSQUARE), SIsquared_over_NKsquared, ONE_over_NKsquared])\n",
    "        kStart+=1\n",
    "    ###############\n",
    "    # Comparing Measured Exctinction length with a given one\n",
    "    if D_EXCT != None:\n",
    "        print(D_EXCT_G)\n",
    "        print(D_EXCT_G/D_EXCT)\n",
    "\n",
    "    ############\n",
    "    ############\n",
    "    #  Plotting\n",
    "  \n",
    "    plt.rcParams.update({'font.size': 18})\n",
    "    fig, (ax1, ax2) = plt.subplots(1,2,figsize=(20,5))\n",
    "    #ax1.set_aspect(aspect=0.5)  # Doing Kelly's Plot\n",
    "    BEST_fittedITERATION= (RSQUARE_list.index(max(RSQUARE_list)))\n",
    "    Best_THICKNESS = DATA_list[BEST_fittedITERATION][2]\n",
    "    Best_SLOPE =DATA_list[BEST_fittedITERATION][0]\n",
    "    print(type(Best_SLOPE))\n",
    "    ax1.scatter(DATA_list[BEST_fittedITERATION][-1],DATA_list[BEST_fittedITERATION][-2], c= 'r', s = 24, label=r'Thickness= '+str(round(Best_THICKNESS,2))+' nm \\n $R^2= $'+str(round(DATA_list[BEST_fittedITERATION][4],4)))\n",
    "    ax1.plot(DATA_list[BEST_fittedITERATION][-1],DATA_list[BEST_fittedITERATION][1] + DATA_list[BEST_fittedITERATION][0]* DATA_list[BEST_fittedITERATION][-1], c='g', lw=3, alpha= 0.4, label= 'Perfect Condition')\n",
    "    ax1.legend(loc= 'upper right')\n",
    "    ax1.set_xlabel(r'$\\frac{1}{n_k^2}$')\n",
    "    y_label= ax1.set_ylabel(r'$\\frac{s_i^2}{n_k^2}$')\n",
    "    y_label.set_rotation(0)\n",
    "    ax1.set_yticklabels([])\n",
    "    ax1.set_xticklabels([])\n",
    "    if Best_SLOPE >0:\n",
    "        ax1.text(.5,.5,'Wrong Slope',size = 100, bbox=dict(boxstyle=\"round\",ec=(1., 0.5, 0.5),fc=(1., 0.8, 0.8)))\n",
    "    #ax2.set_aspect(aspect= 1)   # Plotting the Rsquared\n",
    "    ax2.scatter(np.arange(start= 1, stop=len(RSQUARE_list)+1,step=1, dtype= int), RSQUARE_list, marker= '+',s = 200)\n",
    "    ax2.scatter(BEST_fittedITERATION+1, DATA_list[BEST_fittedITERATION][4], s= 200, facecolors = 'none', edgecolors= 'r',linewidth= 3)\n",
    "    ax2.set_xlim([0,kStop+1])\n",
    "    #ax2.set_xticklabels(np.arange(start= 1, stop=len(RSQUARE_list)+1,step=1, dtype= int))\n",
    "    ax2.set_xlabel('Number of Iterations')\n",
    "    ylabel = ax2.set_ylabel(r'$R^2$')\n",
    "    ylabel.set_rotation(90)\n",
    "    \n",
    "    return fig, RSQUARE_list"
   ]
  },
  {
   "cell_type": "markdown",
   "metadata": {},
   "source": [
    "# Load Image"
   ]
  },
  {
   "cell_type": "code",
   "execution_count": 15,
   "metadata": {},
   "outputs": [],
   "source": [
    "CBED_path = \"C:/Users/chhe/OneDrive - NTNU/Archive/(CBED)Thicknessdetermination/20201030_CBED/CBED_Spot1Alpha1_L120cm_G200.dm3\"\n",
    "CBED_img = hs.load(CBED_path)\n",
    "CBED_img.plot()"
   ]
  },
  {
   "cell_type": "markdown",
   "metadata": {},
   "source": [
    "# Choose ROI\n",
    "Arrange the Line-Scan tool in a way to extract the information of the KM fringes and the distant of the Kikuchi lines."
   ]
  },
  {
   "cell_type": "code",
   "execution_count": 8,
   "metadata": {},
   "outputs": [
    {
     "name": "stdout",
     "output_type": "stream",
     "text": [
      "Line2DROI(x1=10, y1=10, x2=5, y2=5, linewidth=5)\n"
     ]
    }
   ],
   "source": [
    "roi = hs.roi.Line2DROI(10,10,5,5, linewidth = 5)\n",
    "im_roi = roi.interactive(CBED_img,color = 'red')\n",
    "\n"
   ]
  },
  {
   "cell_type": "markdown",
   "metadata": {},
   "source": [
    "# Get ROI and distances\n",
    "Span the interactive (green) widget to either extract the distance of Kik.lines or the Theta values.\n",
    "\n",
    "First, one wants to extract the distance between the Kikuchi lines. Afterwards, one wants to extract the distances of the KM lines (min 3) to the Kikuchi line in the gspot. The reference (green edge on the Kikuchi line) should not be changed."
   ]
  },
  {
   "cell_type": "code",
   "execution_count": 9,
   "metadata": {
    "scrolled": true
   },
   "outputs": [],
   "source": [
    "im_roi.plot()\n",
    "span= hs.roi.SpanROI(0, 5)\n",
    "span.add_widget(im_roi)\n",
    "theta_list = []"
   ]
  },
  {
   "cell_type": "markdown",
   "metadata": {},
   "source": [
    "#### d_kik"
   ]
  },
  {
   "cell_type": "code",
   "execution_count": 10,
   "metadata": {},
   "outputs": [
    {
     "data": {
      "text/plain": [
       "8.053430378446832"
      ]
     },
     "execution_count": 10,
     "metadata": {},
     "output_type": "execute_result"
    }
   ],
   "source": [
    "R = span.right\n",
    "L = span.left\n",
    "d_kik= span.right-span.left\n",
    "d_kik"
   ]
  },
  {
   "cell_type": "code",
   "execution_count": 80,
   "metadata": {},
   "outputs": [
    {
     "name": "stdout",
     "output_type": "stream",
     "text": [
      "<class 'numpy.ndarray'>\n"
     ]
    }
   ],
   "source": []
  },
  {
   "cell_type": "markdown",
   "metadata": {},
   "source": [
    "#### theta_1"
   ]
  },
  {
   "cell_type": "code",
   "execution_count": 11,
   "metadata": {},
   "outputs": [
    {
     "data": {
      "text/plain": [
       "1.32315443816504"
      ]
     },
     "execution_count": 11,
     "metadata": {},
     "output_type": "execute_result"
    }
   ],
   "source": [
    "theta1= span.right-span.left\n",
    "theta_list = [theta1]\n",
    "theta1"
   ]
  },
  {
   "cell_type": "markdown",
   "metadata": {},
   "source": [
    "#### theta_2"
   ]
  },
  {
   "cell_type": "code",
   "execution_count": 12,
   "metadata": {},
   "outputs": [
    {
     "data": {
      "text/plain": [
       "2.4809145715594503"
      ]
     },
     "execution_count": 12,
     "metadata": {},
     "output_type": "execute_result"
    }
   ],
   "source": [
    "theta2= span.right-span.left\n",
    "theta_list = [theta1, theta2]\n",
    "theta2"
   ]
  },
  {
   "cell_type": "markdown",
   "metadata": {},
   "source": [
    "#### theta_3 "
   ]
  },
  {
   "cell_type": "code",
   "execution_count": 13,
   "metadata": {},
   "outputs": [
    {
     "data": {
      "text/plain": [
       "3.8040690097244907"
      ]
     },
     "execution_count": 13,
     "metadata": {},
     "output_type": "execute_result"
    }
   ],
   "source": [
    "theta3= span.right-span.left\n",
    "theta_list = [theta1, theta2, theta3]\n",
    "theta3"
   ]
  },
  {
   "cell_type": "markdown",
   "metadata": {},
   "source": [
    "#### theta_4 "
   ]
  },
  {
   "cell_type": "code",
   "execution_count": 13,
   "metadata": {},
   "outputs": [
    {
     "data": {
      "text/plain": [
       "2.8078136989665694"
      ]
     },
     "execution_count": 13,
     "metadata": {},
     "output_type": "execute_result"
    }
   ],
   "source": [
    "theta4= span.right-span.left\n",
    "theta_list = [theta1, theta2, theta3, theta4]\n",
    "theta4"
   ]
  },
  {
   "cell_type": "markdown",
   "metadata": {},
   "source": [
    "#### theta_5 "
   ]
  },
  {
   "cell_type": "code",
   "execution_count": null,
   "metadata": {},
   "outputs": [],
   "source": [
    "theta5= span.right-span.left\n",
    "theta_list = [theta1, theta2, theta3, theta4, theta5]\n",
    "theta5"
   ]
  },
  {
   "cell_type": "markdown",
   "metadata": {},
   "source": [
    "# Run Functions\n",
    "\n",
    "It is important to set/use the correct d-plane spacing."
   ]
  },
  {
   "cell_type": "code",
   "execution_count": 14,
   "metadata": {},
   "outputs": [
    {
     "name": "stdout",
     "output_type": "stream",
     "text": [
      "<class 'numpy.float64'>\n"
     ]
    }
   ],
   "source": [
    "si_list = make_si(theta_list,d_kik, d_Al_220, wavelength_TEM_200kV)\n",
    "thickness_fig, rsquares = get_thickness_plot(si_list[:3], kStart = 1, kStop = 5)"
   ]
  },
  {
   "cell_type": "code",
   "execution_count": null,
   "metadata": {},
   "outputs": [],
   "source": []
  }
 ],
 "metadata": {
  "kernelspec": {
   "display_name": "Python 3",
   "language": "python",
   "name": "python3"
  },
  "language_info": {
   "codemirror_mode": {
    "name": "ipython",
    "version": 3
   },
   "file_extension": ".py",
   "mimetype": "text/x-python",
   "name": "python",
   "nbconvert_exporter": "python",
   "pygments_lexer": "ipython3",
   "version": "3.7.8"
  }
 },
 "nbformat": 4,
 "nbformat_minor": 4
}
