{
 "cells": [
  {
   "cell_type": "markdown",
   "id": "690c3413",
   "metadata": {},
   "source": [
    "# CBED- Thickness Calculator"
   ]
  },
  {
   "cell_type": "code",
   "execution_count": 1,
   "id": "5379732d",
   "metadata": {
    "scrolled": true
   },
   "outputs": [],
   "source": [
    "import numpy as np\n",
    "import matplotlib.pyplot as plt\n",
    "from scipy.constants import h, e, c, m_e\n",
    "from scipy.stats import linregress\n",
    "import itertools\n",
    "from scipy.stats import t\n",
    "\n",
    "\n",
    "#conda install -c conda-forge ipywidgets\n",
    "import ipywidgets as widgets\n",
    "from IPython.display import display"
   ]
  },
  {
   "cell_type": "code",
   "execution_count": 118,
   "id": "a2aa3999",
   "metadata": {},
   "outputs": [
    {
     "data": {
      "application/vnd.jupyter.widget-view+json": {
       "model_id": "77f1bf762b0c4c5f83da4d04643530ea",
       "version_major": 2,
       "version_minor": 0
      },
      "text/plain": [
       "IntSlider(value=200, description='Voltage [kV]:', max=300, min=80, step=20)"
      ]
     },
     "metadata": {},
     "output_type": "display_data"
    },
    {
     "data": {
      "application/vnd.jupyter.widget-view+json": {
       "model_id": "8308da495fb043d2afb20bb2a99bb5c9",
       "version_major": 2,
       "version_minor": 0
      },
      "text/plain": [
       "IntSlider(value=2, description='max. iterator', max=10, min=1)"
      ]
     },
     "metadata": {},
     "output_type": "display_data"
    },
    {
     "data": {
      "application/vnd.jupyter.widget-view+json": {
       "model_id": "423b91b24ce04b079b2fb75ec072acdd",
       "version_major": 2,
       "version_minor": 0
      },
      "text/plain": [
       "Dropdown(description='Material:', options=('Al', 'Fantasite', 'Au'), value='Al')"
      ]
     },
     "metadata": {},
     "output_type": "display_data"
    },
    {
     "data": {
      "application/vnd.jupyter.widget-view+json": {
       "model_id": "3dfd1c5c6f904a899862466d059d7832",
       "version_major": 2,
       "version_minor": 0
      },
      "text/plain": [
       "FloatText(value=4.0475e-10, description='Lattice Parameter [nm]:')"
      ]
     },
     "metadata": {},
     "output_type": "display_data"
    },
    {
     "data": {
      "application/vnd.jupyter.widget-view+json": {
       "model_id": "3fdefe35a4cf4882afd0c6c2810ca9ee",
       "version_major": 2,
       "version_minor": 0
      },
      "text/plain": [
       "Dropdown(description='Kikuchi Band:', index=1, options=((2, 0, 0), (2, 2, 0), (2, 2, 2)), value=(2, 2, 0))"
      ]
     },
     "metadata": {},
     "output_type": "display_data"
    },
    {
     "data": {
      "application/vnd.jupyter.widget-view+json": {
       "model_id": "c7ad92a9cbc04bb28fbdf29d43c2cb6c",
       "version_major": 2,
       "version_minor": 0
      },
      "text/plain": [
       "Text(value='', description='String:', placeholder='Parameter Filename')"
      ]
     },
     "metadata": {},
     "output_type": "display_data"
    },
    {
     "data": {
      "application/vnd.jupyter.widget-view+json": {
       "model_id": "11dbeb32cd554436bb37ec6540fc9abe",
       "version_major": 2,
       "version_minor": 0
      },
      "text/plain": [
       "ToggleButtons(description='Overwrite', options=('No', 'Yes'), value='No')"
      ]
     },
     "metadata": {},
     "output_type": "display_data"
    },
    {
     "data": {
      "application/vnd.jupyter.widget-view+json": {
       "model_id": "bd6e1f875e904b99841c362acf6518db",
       "version_major": 2,
       "version_minor": 0
      },
      "text/plain": [
       "FloatText(value=0.0, description='Kikuchi Spacing:')"
      ]
     },
     "metadata": {},
     "output_type": "display_data"
    },
    {
     "data": {
      "application/vnd.jupyter.widget-view+json": {
       "model_id": "564ac319cce540039c20d99ebf3d984c",
       "version_major": 2,
       "version_minor": 0
      },
      "text/plain": [
       "FloatText(value=0.0, description='Theta1:')"
      ]
     },
     "metadata": {},
     "output_type": "display_data"
    },
    {
     "data": {
      "application/vnd.jupyter.widget-view+json": {
       "model_id": "95f6d5db5cc6401daaf968859e085233",
       "version_major": 2,
       "version_minor": 0
      },
      "text/plain": [
       "FloatText(value=0.0, description='Theta2:')"
      ]
     },
     "metadata": {},
     "output_type": "display_data"
    },
    {
     "data": {
      "application/vnd.jupyter.widget-view+json": {
       "model_id": "075bd630de77462082e6580c42348043",
       "version_major": 2,
       "version_minor": 0
      },
      "text/plain": [
       "FloatText(value=0.0, description='Theta3:')"
      ]
     },
     "metadata": {},
     "output_type": "display_data"
    },
    {
     "data": {
      "application/vnd.jupyter.widget-view+json": {
       "model_id": "cc9ec7043cb64921938bdab3bb3baba9",
       "version_major": 2,
       "version_minor": 0
      },
      "text/plain": [
       "FloatText(value=0.0, description='Theta4:')"
      ]
     },
     "metadata": {},
     "output_type": "display_data"
    },
    {
     "data": {
      "application/vnd.jupyter.widget-view+json": {
       "model_id": "62a3c4b48a4b4a758780933de1912584",
       "version_major": 2,
       "version_minor": 0
      },
      "text/plain": [
       "Button(description='Calculate Sickness!', style=ButtonStyle())"
      ]
     },
     "metadata": {},
     "output_type": "display_data"
    }
   ],
   "source": [
    "\n",
    "class Sickness:\n",
    "\n",
    "\n",
    "        \n",
    "    def __init__(self, iterator = 2, kV = 200, solid = 'Al', kikBand = (2,2,0)):\n",
    "        self.materials = {'Al':0.40475e-9, 'Fantasite': 666e-10, 'Au': 1.} #Al taken from https://arxiv.org/ftp/arxiv/papers/2002/2002.01562.pdf\n",
    "        \n",
    "        \n",
    "        self.d_kik = widgets.FloatText(\n",
    "        value=0,\n",
    "        description='Kikuchi Spacing:',\n",
    "        disabled=False)\n",
    "            \n",
    "        self.theta1 = widgets.FloatText(\n",
    "        value=0,\n",
    "        description='Theta1:',\n",
    "        disabled=False)\n",
    "\n",
    "        self.theta2 = widgets.FloatText(\n",
    "        value=0,\n",
    "        description='Theta2:',\n",
    "        disabled=False)\n",
    "\n",
    "        self.theta3 = widgets.FloatText(\n",
    "        value=0,\n",
    "        description='Theta3:',\n",
    "        disabled=False)\n",
    "\n",
    "        self.theta4 = widgets.FloatText(\n",
    "        value=0.0,\n",
    "        description='Theta4:',\n",
    "        disabled=False)\n",
    "      \n",
    "        self.kV = kV\n",
    "        self.kikBand = kikBand\n",
    "        self.solid = solid\n",
    "        self.iterator = iterator\n",
    "        \n",
    "        \n",
    "        self.slider = widgets.IntSlider(\n",
    "        min=80,\n",
    "        max=300,\n",
    "        step=20,\n",
    "        description='Voltage [kV]:',\n",
    "        value=self.kV,\n",
    "        orientation = 'horizontal')\n",
    "        \n",
    "        self.kik_band = widgets.Dropdown(\n",
    "        options=[(2,0,0), (2,2,0), (2,2,2)],\n",
    "        value=self.kikBand,\n",
    "        description='Kikuchi Band:',\n",
    "        disabled=False)\n",
    "       \n",
    "        self.material = widgets.Dropdown(\n",
    "        options=list(self.materials),         \n",
    "        value=self.solid,\n",
    "        description='Material:',\n",
    "        disabled=False)\n",
    "        \n",
    "        self.latticeParam = widgets.FloatText(\n",
    "        value=self.materials[self.solid],\n",
    "        description='Lattice Parameter [nm]:',\n",
    "        disabled=False)\n",
    "        \n",
    "        self.kStop_slider = widgets.IntSlider(\n",
    "        min=1,\n",
    "        max=10,\n",
    "        step=1,\n",
    "        description='max. iterator',\n",
    "        value=self.iterator,\n",
    "        orientation = 'horizontal')\n",
    "        \n",
    "        self.fname = widgets.Text(\n",
    "        placeholder='Parameter Filename',\n",
    "        description='String:',\n",
    "        disabled=False)\n",
    "\n",
    "        self.overWrite= widgets.ToggleButtons(\n",
    "        options=['No', 'Yes'],\n",
    "        description='Overwrite',\n",
    "        disabled=False,\n",
    "        button_style='')# 'success', 'info', 'warning', 'danger' or '')\n",
    "        \n",
    "        self.button = widgets.Button(description='Calculate Sickness!')\n",
    "        test.button.on_click(None)\n",
    "        display(self.slider, self.kStop_slider, self.material,self.latticeParam, self.kik_band,self.fname,self.overWrite, self.d_kik,self.theta1, self.theta2, self.theta3, self.theta4, self.button)\n",
    "        \n",
    "        \n",
    "    def get_wavelength(self):\n",
    "    # https://www.jeol.co.jp/en/words/emterms/search_result.html?keyword=wavelength%20of%20electron\n",
    "    # https://www.jeol.co.jp/en/words/emterms/search_result.html?keyword=relativistic%20correction\n",
    "        acceleration_voltage = self.slider.value*10**3\n",
    "        V_corrected = acceleration_voltage*(1+ (e)/(2*m_e*c**2)*acceleration_voltage)\n",
    "        lambd = h/np.sqrt(2*m_e*e*V_corrected)\n",
    "        return lambd\n",
    "\n",
    "    def get_d_hkl(self):\n",
    "        (h,k,l) = self.kik_band.value\n",
    "        d_hkl= self.materials[self.solid]/np.sqrt(h**2+k**2+l**2)\n",
    "        return d_hkl\n",
    "    \n",
    "    def make_theta_list(self):\n",
    "        if self.theta4.value !=0.0:\n",
    "            return [self.theta1.value,self.theta2.value,self.theta3.value,self.theta4.value]\n",
    "        else:\n",
    "            return [self.theta1.value,self.theta2.value,self.theta3.value]\n",
    "\n",
    "    def make_si(self):\n",
    "        wavelength = self.get_wavelength()\n",
    "        d_hkl = self.get_d_hkl()\n",
    "        d_kik = self.d_kik.value\n",
    "        theta_list = self.make_theta_list()\n",
    "        return np.array([(wavelength*theta)/(d_kik*d_hkl**2) for theta in theta_list])\n",
    "\n",
    "    def get_thickness_plot(self):\n",
    "        si_list=self.make_si()\n",
    "        kStart=1\n",
    "        kStop= self.kStop_slider.value\n",
    "        d_exct_list = []\n",
    "        t_error_list = []\n",
    "        t_list = []\n",
    "        r2_list = []\n",
    "\n",
    "        #For easy plotting\n",
    "        x_data = []\n",
    "        y_data = []\n",
    "        slope_data = []\n",
    "        intercept_data = []\n",
    "        std_yintercept = []\n",
    "\n",
    "\n",
    "        for i in range(kStop):\n",
    "            nk_list = np.arange(start=kStart, stop= len(si_list)+kStart, step=1) #creating the necessary n_k\n",
    "            SIsquared_over_NKsquared= np.array([S**2/N**2 for (S,N) in zip(si_list,nk_list)]) #creating Yvalues\n",
    "            ONE_over_NKsquared = np.array([1/N**2 for N in nk_list]) #creating Xvalues\n",
    "            y_data.append(SIsquared_over_NKsquared)\n",
    "            x_data.append(ONE_over_NKsquared)\n",
    "\n",
    "            result= linregress(ONE_over_NKsquared, SIsquared_over_NKsquared) #Getting all the necessary Data\n",
    "            slope_data.append(result.slope)\n",
    "            intercept_data.append(result.intercept)\n",
    "\n",
    "\n",
    "            std_yintercept.append(result.intercept_stderr)\n",
    "\n",
    "\n",
    "            # Getting Extinction length and Thickness T\n",
    "            d_exct_g = np.sqrt(np.abs(1/result.slope)) * 10**9 # in nm\n",
    "            d_exct_list.append(d_exct_g)\n",
    "\n",
    "            t = np.sqrt(1/result.intercept)*10**9 # in nm  \n",
    "            t_list.append(t)\n",
    "\n",
    "            t_error_list.append(np.sqrt(1/result.intercept_stderr)*10**9)\n",
    "            r2_list.append(result.rvalue**2)\n",
    "            kStart+=1\n",
    "\n",
    "\n",
    "        ##########\n",
    "        #Determening uncertainty (Christoph apparently called Jackknife method):\n",
    "        possible_t=[]\n",
    "        pairs = []\n",
    "        for m in range(kStop):\n",
    "            pairs.append([])\n",
    "\n",
    "            for i in zip(x_data[m],y_data[m]):\n",
    "                pairs[m].append(i)\n",
    "        all_combinations=[]\n",
    "        for j in range(len(pairs)):\n",
    "            combinations = itertools.combinations(pairs[j],len(x_data[m])-1)\n",
    "            all_combinations.append(combinations)\n",
    "\n",
    "\n",
    "        for k in range(len(all_combinations)):\n",
    "            possible_t.append([])\n",
    "            for line in list(all_combinations[k]):\n",
    "                line_x = []\n",
    "                line_y = []\n",
    "                for point in line:\n",
    "                    line_x.append(point[0])\n",
    "                    line_y.append(point[1])\n",
    "                result= linregress(line_x, line_y)\n",
    "                t = np.sqrt(1/result.intercept)*10**9 # in nm  \n",
    "                possible_t[k].append(t)\n",
    "\n",
    "        t_std= []\n",
    "        for l in range(len(possible_t)):\n",
    "            t_std.append(np.nanstd(possible_t[l]))\n",
    "\n",
    "\n",
    "        ############\n",
    "        #Plotting\n",
    "        plt.rcParams.update({'font.size': 18})\n",
    "\n",
    "        fig, ax = plt.subplots(1,kStop, figsize = (25,10))\n",
    "        for i in range(kStop):\n",
    "            ax[i].plot(x_data[i],intercept_data[i]+slope_data[i]*x_data[i],c='g',label = r'$R^2$: '+str(round(r2_list[i],3))+'\\n'+r'$\\xi$ [nm]: '+str(round(d_exct_list[i],1))+'\\n Thickness [nm]: '+str(round(t_list[i],1))+r'$\\pm$'+str(round(t_std[i],1)))\n",
    "            ax[i].scatter(x_data[i],y_data[i], c= 'r')\n",
    "\n",
    "\n",
    "\n",
    "        for a in ax:\n",
    "            a.legend(loc= 'upper right', facecolor='bisque')\n",
    "            a.set_xlabel(r'$\\frac{1}{n_k^2}$')\n",
    "            y_label= a.set_ylabel(r'$\\frac{s_i^2}{n_k^2}$')\n",
    "            y_label.set_rotation(0)\n",
    "            a.set_yticklabels([])\n",
    "            a.set_xticklabels([])\n",
    "        plt.show()\n",
    "    \n",
    "    \n",
    "    \n",
    "    def compare_with_simulation_220(self):\n",
    "        findClosest = lambda num,array:min(array,key=lambda x:abs(x-num))\n",
    "        \n",
    "        t_sim = [34.425,40.5,60.75,65,71,75,81,85,91,101.25,105,111,120,130.8,140.3,149.3,162.6]\n",
    "        kik_sim= np.array([0.69212,0.69212,0.69212,316.87,316.87,151,0.69212,316.87,151,0.69212,151,151,151,51.2,51.2,51.2,51.2])\n",
    "        theta1_sim =np.array([0.1589,0.1369,0.0859,35.98,30.99,13.5,0.0599,23.98,11.8,0.0409,8.2,6.5,6.1,1.42,1.0764,0.87225,0.3358])\n",
    "        theta2_sim =np.array([0.3169,0.2759,0.1839,76.95,69.97,34.0,0.1379,57.95,26.1,0.1059,22.3,19.5,18.5,5.805,5.302,4.856,4.378])\n",
    "        theta3_sim =np.array([0.4969,0.4159,0.2769,117.93,105.96,47.5,0.2089,88.93,39.3,0.1629,34.7,30.7,29.4,9.269,8.5409,8.049,7.372])\n",
    "        frac1 =theta1_sim/kik_sim\n",
    "        frac2 =theta2_sim/kik_sim\n",
    "        frac3 =theta3_sim/kik_sim\n",
    "        experimental= [self.theta1.value/self.d_kik.value,self.theta2.value/self.d_kik.value,self.theta3.value/self.d_kik.value]\n",
    "\n",
    "        closestTheta1=findClosest(experimental[0],frac1)\n",
    "        closestTheta2=findClosest(experimental[1],frac2)\n",
    "        closestTheta3=findClosest(experimental[2],frac3)\n",
    "        \n",
    "        closest_thick1 = t_sim[list(frac1).index(closestTheta1)]\n",
    "        closest_thick2 = t_sim[list(frac2).index(closestTheta2)]\n",
    "        closest_thick3 = t_sim[list(frac3).index(closestTheta3)]\n",
    "        print('Experimental \\u03B8 values are closest to the following thicknesses from simulation: {} nm,{} nm, {} nm.'.format(closest_thick1,closest_thick2,closest_thick3))\n",
    "    \n",
    "    def calculate_Sickness(self):\n",
    "        pass\n",
    "    def calculate_uncertainty(self):\n",
    "        pass\n",
    "    def Kelly_plots(self):\n",
    "        pass\n",
    "    def write_parameter_file(fname, params, overwrite):\n",
    "        pass\n",
    "    \n",
    "\n",
    "    \n",
    "    \n",
    "\n",
    "\n",
    "test=Sickness(kV=200, kikBand=(2,2,0),solid='Al', iterator=2 )"
   ]
  },
  {
   "cell_type": "markdown",
   "id": "22d6f59e",
   "metadata": {},
   "source": [
    "# Type in your values above and execute the cell below\n",
    "If only 3 minima are used, keep Theta4=0!"
   ]
  },
  {
   "cell_type": "code",
   "execution_count": 119,
   "id": "f6857caf",
   "metadata": {},
   "outputs": [
    {
     "data": {
      "image/png": "[encoded data removed]",
      "text/plain": [
       "<Figure size 1800x720 with 2 Axes>"
      ]
     },
     "metadata": {
      "needs_background": "light"
     },
     "output_type": "display_data"
    },
    {
     "name": "stdout",
     "output_type": "stream",
     "text": [
      "Experimental θ values are closest to the following thicknesses from simulation:34.425 nm,34.425 nm, 34.425 nm.\n"
     ]
    }
   ],
   "source": [
    "test.get_thickness_plot()\n",
    "test.compare_with_simulation_220()"
   ]
  },
  {
   "cell_type": "code",
   "execution_count": null,
   "id": "a43a7883",
   "metadata": {},
   "outputs": [],
   "source": []
  },
  {
   "cell_type": "code",
   "execution_count": null,
   "id": "23799ddb",
   "metadata": {},
   "outputs": [],
   "source": []
  },
  {
   "cell_type": "markdown",
   "id": "2a61b786",
   "metadata": {},
   "source": [
    "# Plans for next versions:"
   ]
  },
  {
   "cell_type": "markdown",
   "id": "b26e1f63",
   "metadata": {},
   "source": [
    "- Making the button work\n",
    "- Writing output files\n",
    "- Making the CBED-module as a package\n",
    "- splitting the get_thickness_plot function into 3"
   ]
  },
  {
   "cell_type": "code",
   "execution_count": null,
   "id": "7d6ae8a5",
   "metadata": {},
   "outputs": [],
   "source": []
  }
 ],
 "metadata": {
  "kernelspec": {
   "display_name": "Python 3",
   "language": "python",
   "name": "python3"
  },
  "language_info": {
   "codemirror_mode": {
    "name": "ipython",
    "version": 3
   },
   "file_extension": ".py",
   "mimetype": "text/x-python",
   "name": "python",
   "nbconvert_exporter": "python",
   "pygments_lexer": "ipython3",
   "version": "3.8.10"
  }
 },
 "nbformat": 4,
 "nbformat_minor": 5
}
